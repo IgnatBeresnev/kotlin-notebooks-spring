{
 "cells": [
  {
   "cell_type": "code",
   "metadata": {
    "collapsed": true,
    "ExecuteTime": {
     "end_time": "2025-03-24T20:32:26.969895Z",
     "start_time": "2025-03-24T20:32:26.934725Z"
    }
   },
   "source": "usageExample.countProcessors()",
   "outputs": [
    {
     "data": {
      "text/plain": [
       "2"
      ]
     },
     "execution_count": 2,
     "metadata": {},
     "output_type": "execute_result"
    }
   ],
   "execution_count": 2
  },
  {
   "metadata": {
    "ExecuteTime": {
     "end_time": "2025-03-24T20:32:38.513404Z",
     "start_time": "2025-03-24T20:32:38.483222Z"
    }
   },
   "cell_type": "code",
   "source": "usageExample.process(\"hello\")",
   "outputs": [
    {
     "data": {
      "text/plain": [
       "hello+hello"
      ]
     },
     "execution_count": 3,
     "metadata": {},
     "output_type": "execute_result"
    }
   ],
   "execution_count": 3
  }
 ],
 "metadata": {
  "kernelspec": {
   "display_name": "Kotlin",
   "language": "kotlin",
   "name": "kotlin"
  },
  "language_info": {
   "name": "kotlin",
   "version": "1.9.23",
   "mimetype": "text/x-kotlin",
   "file_extension": ".kt",
   "pygments_lexer": "kotlin",
   "codemirror_mode": "text/x-kotlin",
   "nbconvert_exporter": ""
  },
  "ktnbPluginMetadata": {
   "sessionRunMode": "ATTACHED_PROCESS"
  }
 },
 "nbformat": 4,
 "nbformat_minor": 0
}
