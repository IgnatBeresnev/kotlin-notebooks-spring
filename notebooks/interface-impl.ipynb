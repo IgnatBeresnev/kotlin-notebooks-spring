{
 "cells": [
  {
   "metadata": {
    "ExecuteTime": {
     "end_time": "2025-03-24T20:25:09.269092Z",
     "start_time": "2025-03-24T20:25:09.233367Z"
    }
   },
   "cell_type": "code",
   "source": "randomTestService",
   "outputs": [
    {
     "data": {
      "text/plain": [
       "com.example.RandomTestService@29945674"
      ]
     },
     "execution_count": 3,
     "metadata": {},
     "output_type": "execute_result"
    }
   ],
   "execution_count": 3
  }
 ],
 "metadata": {
  "kernelspec": {
   "display_name": "Kotlin",
   "language": "kotlin",
   "name": "kotlin"
  },
  "language_info": {
   "name": "kotlin",
   "version": "1.9.23",
   "mimetype": "text/x-kotlin",
   "file_extension": ".kt",
   "pygments_lexer": "kotlin",
   "codemirror_mode": "text/x-kotlin",
   "nbconvert_exporter": ""
  },
  "ktnbPluginMetadata": {
   "sessionRunMode": "ATTACHED_PROCESS"
  }
 },
 "nbformat": 4,
 "nbformat_minor": 0
}
