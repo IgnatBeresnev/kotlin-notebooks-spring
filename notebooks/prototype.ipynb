{
 "cells": [
  {
   "metadata": {
    "ExecuteTime": {
     "end_time": "2025-03-24T20:36:45.923572Z",
     "start_time": "2025-03-24T20:36:45.898615Z"
    }
   },
   "cell_type": "code",
   "source": "prototypeTest.test()",
   "outputs": [
    {
     "data": {
      "text/plain": [
       "Number is: 3714"
      ]
     },
     "execution_count": 12,
     "metadata": {},
     "output_type": "execute_result"
    }
   ],
   "execution_count": 12
  },
  {
   "metadata": {
    "ExecuteTime": {
     "end_time": "2025-03-24T20:36:45.951783Z",
     "start_time": "2025-03-24T20:36:45.928375Z"
    }
   },
   "cell_type": "code",
   "source": "prototypeTest.test()",
   "outputs": [
    {
     "data": {
      "text/plain": [
       "Number is: 3714"
      ]
     },
     "execution_count": 13,
     "metadata": {},
     "output_type": "execute_result"
    }
   ],
   "execution_count": 13
  },
  {
   "metadata": {
    "ExecuteTime": {
     "end_time": "2025-03-24T20:36:45.985278Z",
     "start_time": "2025-03-24T20:36:45.955565Z"
    }
   },
   "cell_type": "code",
   "source": [
    "import com.example.PrototypeTest\n",
    "import org.jetbrains.kotlinx.jupyter.spring.starter.springContext\n",
    "\n",
    "springContext.getBean(PrototypeTest::class.java).test()"
   ],
   "outputs": [
    {
     "data": {
      "text/plain": [
       "Number is: 5666"
      ]
     },
     "execution_count": 14,
     "metadata": {},
     "output_type": "execute_result"
    }
   ],
   "execution_count": 14
  },
  {
   "metadata": {
    "ExecuteTime": {
     "end_time": "2025-03-24T20:36:45.989351Z",
     "start_time": "2025-03-24T20:36:45.987909Z"
    }
   },
   "cell_type": "code",
   "source": "",
   "outputs": [],
   "execution_count": null
  }
 ],
 "metadata": {
  "kernelspec": {
   "display_name": "Kotlin",
   "language": "kotlin",
   "name": "kotlin"
  },
  "language_info": {
   "name": "kotlin",
   "version": "1.9.23",
   "mimetype": "text/x-kotlin",
   "file_extension": ".kt",
   "pygments_lexer": "kotlin",
   "codemirror_mode": "text/x-kotlin",
   "nbconvert_exporter": ""
  },
  "ktnbPluginMetadata": {
   "projectDependencies": [
    "kotlin-notebooks-spring.main"
   ],
   "projectLibraries": false,
   "sessionRunMode": "ATTACHED_PROCESS"
  }
 },
 "nbformat": 4,
 "nbformat_minor": 0
}
